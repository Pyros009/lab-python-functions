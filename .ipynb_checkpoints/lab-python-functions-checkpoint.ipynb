{
 "cells": [
  {
   "cell_type": "markdown",
   "id": "25d7736c-ba17-4aff-b6bb-66eba20fbf4e",
   "metadata": {},
   "source": [
    "# Lab | Functions"
   ]
  },
  {
   "cell_type": "markdown",
   "id": "0c581062-8967-4d93-b06e-62833222f930",
   "metadata": {
    "tags": []
   },
   "source": [
    "## Exercise: Managing Customer Orders with Functions\n",
    "\n",
    "In the previous exercise, you improved the code for managing customer orders by using loops and flow control. Now, let's take it a step further and refactor the code by introducing functions.\n",
    "\n",
    "Follow the steps below to complete the exercise:\n",
    "\n",
    "1. Define a function named `initialize_inventory` that takes `products` as a parameter. Inside the function, implement the code for initializing the inventory dictionary using a loop and user input.\n",
    "\n",
    "2. Define a function named `get_customer_orders` that takes no parameters. Inside the function, implement the code for prompting the user to enter the product names using a loop. The function should return the `customer_orders` set.\n",
    "\n",
    "3. Define a function named `update_inventory` that takes `customer_orders` and `inventory` as parameters. Inside the function, implement the code for updating the inventory dictionary based on the customer orders.\n",
    "\n",
    "4. Define a function named `calculate_order_statistics` that takes `customer_orders` and `products` as parameters. Inside the function, implement the code for calculating the order statistics (total products ordered, and percentage of unique products ordered). The function should return these values.\n",
    "\n",
    "5. Define a function named `print_order_statistics` that takes `order_statistics` as a parameter. Inside the function, implement the code for printing the order statistics.\n",
    "\n",
    "6. Define a function named `print_updated_inventory` that takes `inventory` as a parameter. Inside the function, implement the code for printing the updated inventory.\n",
    "\n",
    "7. Call the functions in the appropriate sequence to execute the program and manage customer orders.\n",
    "\n",
    "Hints for functions:\n",
    "\n",
    "- Consider the input parameters required for each function and their return values.\n",
    "- Utilize function parameters and return values to transfer data between functions.\n",
    "- Test your functions individually to ensure they work correctly.\n",
    "\n",
    "\n"
   ]
  },
  {
   "cell_type": "code",
   "execution_count": 3,
   "id": "137afeb8-07fc-47f2-ab81-0e55e3d59869",
   "metadata": {},
   "outputs": [],
   "source": [
    "# 1. Define a function named `initialize_inventory` that takes `products` as a parameter. \n",
    "# Inside the function, implement the code for initializing the inventory dictionary using a loop and user input.\n",
    "\n",
    "def initialize_inventory (products):\n",
    "    \"\"\"\n",
    "    creates a dictionary from products and stock\n",
    "    takes a list as argument\n",
    "    outputs a dictionary\n",
    "    \"\"\"\n",
    "    inventory = dict()\n",
    "    for i in products:\n",
    "        values = int(input(f\"How many {i} do you have in stock:\"))\n",
    "        inventory.update({i: values})\n",
    "    \n",
    "    return inventory\n",
    "        "
   ]
  },
  {
   "cell_type": "code",
   "execution_count": 5,
   "id": "d33ffb63-de95-4791-a6c4-f615221e8c78",
   "metadata": {},
   "outputs": [],
   "source": [
    "# 2. Define a function named `get_customer_orders` that takes no parameters.\n",
    "# Inside the function, implement the code for prompting the user to enter the product names using a loop.\n",
    "# The function should return the `customer_orders` set.\n",
    "\n",
    "def get_customer_orders():\n",
    "    customer_orders = set()\n",
    "    products_sub = products.copy()\n",
    "    order_check=\"y\"\n",
    "    while order_check == \"y\":\n",
    "        choice = input(f\"Please choose an item from {products_sub}:\")\n",
    "        if choice in products_sub:\n",
    "            customer_orders.add(choice)\n",
    "            products_sub.remove(choice)\n",
    "            order_check = (input(\"Do you want to add another product (y/n)?: \").lower())\n",
    "        else:\n",
    "            print(\"Invalid product.\")\n",
    "\n",
    "    return customer_orders\n",
    "    "
   ]
  },
  {
   "cell_type": "code",
   "execution_count": 7,
   "id": "77d4746a-99d8-43ff-a06a-d2f50c35c6ad",
   "metadata": {},
   "outputs": [],
   "source": [
    "# 3. Define a function named `update_inventory` that takes `customer_orders` and `inventory` as parameters.\n",
    "# Inside the function, implement the code for updating the inventory dictionary based on the customer orders.\n",
    "\n",
    "def update_inventory(customer_orders, inventory):\n",
    "    return {i:inventory[i]-1 for i in customer_orders}\n",
    "    "
   ]
  },
  {
   "cell_type": "code",
   "execution_count": 9,
   "id": "474e8dae-3086-4971-a9ee-3f4375632f43",
   "metadata": {},
   "outputs": [],
   "source": [
    "# 4. Define a function named `calculate_order_statistics` that takes `customer_orders` and `products` as parameters.\n",
    "# Inside the function, implement the code for calculating the order statistics (total products ordered, and percentage of unique products ordered).\n",
    "# The function should return these values.\n",
    "\n",
    "def calculate_order_statistics(customer_orders, products):\n",
    "    t_order = len(customer_orders)\n",
    "    uniques = int(t_order/len(products) * 100 )\n",
    "    order_stat = (t_order, uniques)\n",
    "\n",
    "    return order_stat\n",
    "    \n"
   ]
  },
  {
   "cell_type": "code",
   "execution_count": 11,
   "id": "22bc3481-0b84-4b65-b2a7-5e126a869539",
   "metadata": {},
   "outputs": [],
   "source": [
    "# 5. Define a function named `print_order_statistics` that takes `order_statistics` as a parameter.\n",
    "# Inside the function, implement the code for printing the order statistics.\n",
    "\n",
    "def print_order_statistics(order_statistics):\n",
    "    print(f\"Total products ordered is: {order_statistics[0]}, with {order_statistics[1]}% unique values\")\n",
    "    "
   ]
  },
  {
   "cell_type": "code",
   "execution_count": 13,
   "id": "2cbeaf7a-bba7-4ea6-b34b-42d8b8c06d06",
   "metadata": {},
   "outputs": [],
   "source": [
    "# 6. Define a function named `print_updated_inventory` that takes `inventory` as a parameter.\n",
    "# Inside the function, implement the code for printing the updated inventory.\n",
    "def print_updated_inventory(inventory):\n",
    "    for z in inventory:\n",
    "        print(z + \" : \" + str(inventory[z]))\n",
    "    "
   ]
  },
  {
   "cell_type": "code",
   "execution_count": null,
   "id": "00d4f480-1972-4395-b4e6-678c1dd42a03",
   "metadata": {},
   "outputs": [],
   "source": [
    "# 7. Call the functions in the appropriate sequence to execute the program and manage customer orders.\n",
    "\n",
    "products = [\"t-shirt\", \"mug\", \"keychain\"]\n",
    "inven = initialize_inventory(products)\n",
    "cust_order = get_customer_orders()\n",
    "ostat = calculate_order_statistics(cust_order, products)\n",
    "print_order_statistics(ostat)\n",
    "uinv=update_inventory(cust_order, inven)\n",
    "print_updated_inventory(uinv)"
   ]
  },
  {
   "cell_type": "code",
   "execution_count": 21,
   "id": "1cbc7011-cfed-4c90-80eb-a80fb7806e4a",
   "metadata": {},
   "outputs": [
    {
     "name": "stdout",
     "output_type": "stream",
     "text": [
      "t-shirt : 20\n",
      "mug : 15\n",
      "keychain : 5\n"
     ]
    }
   ],
   "source": [
    "print_updated_inventory(inven)"
   ]
  },
  {
   "cell_type": "code",
   "execution_count": null,
   "id": "dc2d0f54-436d-4462-a711-77fafd50db5c",
   "metadata": {},
   "outputs": [],
   "source": []
  }
 ],
 "metadata": {
  "kernelspec": {
   "display_name": "Python 3 (ipykernel)",
   "language": "python",
   "name": "python3"
  },
  "language_info": {
   "codemirror_mode": {
    "name": "ipython",
    "version": 3
   },
   "file_extension": ".py",
   "mimetype": "text/x-python",
   "name": "python",
   "nbconvert_exporter": "python",
   "pygments_lexer": "ipython3",
   "version": "3.12.4"
  }
 },
 "nbformat": 4,
 "nbformat_minor": 5
}
